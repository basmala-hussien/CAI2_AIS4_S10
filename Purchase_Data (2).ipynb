{
 "cells": [
  {
   "cell_type": "code",
   "execution_count": 2,
   "id": "7b7ca6e9",
   "metadata": {},
   "outputs": [
    {
     "data": {
      "text/html": [
       "<div>\n",
       "<style scoped>\n",
       "    .dataframe tbody tr th:only-of-type {\n",
       "        vertical-align: middle;\n",
       "    }\n",
       "\n",
       "    .dataframe tbody tr th {\n",
       "        vertical-align: top;\n",
       "    }\n",
       "\n",
       "    .dataframe thead th {\n",
       "        text-align: right;\n",
       "    }\n",
       "</style>\n",
       "<table border=\"1\" class=\"dataframe\">\n",
       "  <thead>\n",
       "    <tr style=\"text-align: right;\">\n",
       "      <th></th>\n",
       "      <th>invoice_number</th>\n",
       "      <th>invoice_time</th>\n",
       "      <th>store_id</th>\n",
       "      <th>product_id</th>\n",
       "      <th>category_id</th>\n",
       "      <th>num_item</th>\n",
       "      <th>price</th>\n",
       "    </tr>\n",
       "  </thead>\n",
       "  <tbody>\n",
       "    <tr>\n",
       "      <th>0</th>\n",
       "      <td>2.020000e+11</td>\n",
       "      <td>7/15/15 10:45</td>\n",
       "      <td>G816</td>\n",
       "      <td>7000300</td>\n",
       "      <td>210101</td>\n",
       "      <td>1.0</td>\n",
       "      <td>2.0</td>\n",
       "    </tr>\n",
       "    <tr>\n",
       "      <th>1</th>\n",
       "      <td>2.020000e+11</td>\n",
       "      <td>7/15/15 12:16</td>\n",
       "      <td>G816</td>\n",
       "      <td>7070884</td>\n",
       "      <td>70203</td>\n",
       "      <td>1.0</td>\n",
       "      <td>2.0</td>\n",
       "    </tr>\n",
       "    <tr>\n",
       "      <th>2</th>\n",
       "      <td>2.020000e+11</td>\n",
       "      <td>7/15/15 12:16</td>\n",
       "      <td>G816</td>\n",
       "      <td>7070884</td>\n",
       "      <td>70203</td>\n",
       "      <td>1.0</td>\n",
       "      <td>2.0</td>\n",
       "    </tr>\n",
       "    <tr>\n",
       "      <th>3</th>\n",
       "      <td>2.020000e+11</td>\n",
       "      <td>7/15/15 12:16</td>\n",
       "      <td>G816</td>\n",
       "      <td>7070891</td>\n",
       "      <td>70401</td>\n",
       "      <td>1.0</td>\n",
       "      <td>6.0</td>\n",
       "    </tr>\n",
       "    <tr>\n",
       "      <th>4</th>\n",
       "      <td>2.020000e+11</td>\n",
       "      <td>7/15/15 12:16</td>\n",
       "      <td>G816</td>\n",
       "      <td>7090363</td>\n",
       "      <td>70401</td>\n",
       "      <td>1.0</td>\n",
       "      <td>6.0</td>\n",
       "    </tr>\n",
       "  </tbody>\n",
       "</table>\n",
       "</div>"
      ],
      "text/plain": [
       "   invoice_number   invoice_time store_id  product_id  category_id  num_item  \\\n",
       "0    2.020000e+11  7/15/15 10:45     G816     7000300       210101       1.0   \n",
       "1    2.020000e+11  7/15/15 12:16     G816     7070884        70203       1.0   \n",
       "2    2.020000e+11  7/15/15 12:16     G816     7070884        70203       1.0   \n",
       "3    2.020000e+11  7/15/15 12:16     G816     7070891        70401       1.0   \n",
       "4    2.020000e+11  7/15/15 12:16     G816     7090363        70401       1.0   \n",
       "\n",
       "   price  \n",
       "0    2.0  \n",
       "1    2.0  \n",
       "2    2.0  \n",
       "3    6.0  \n",
       "4    6.0  "
      ]
     },
     "execution_count": 2,
     "metadata": {},
     "output_type": "execute_result"
    }
   ],
   "source": [
    "import pandas as pd\n",
    "\n",
    "# Read the CSV file (assuming it's in the same directory as the notebook)\n",
    "df_data = pd.read_csv(\"Purchase_Data.csv\")\n",
    "\n",
    "\n",
    "df_data.head()\n"
   ]
  },
  {
   "cell_type": "code",
   "execution_count": 6,
   "id": "478f9282",
   "metadata": {},
   "outputs": [
    {
     "name": "stdout",
     "output_type": "stream",
     "text": [
      "   invoice_number   invoice_time store_id  product_id  category_id  num_item  \\\n",
      "0    2.020000e+11  7/15/15 10:45     G816     7000300       210101       1.0   \n",
      "1    2.020000e+11  7/15/15 12:16     G816     7070884        70203       1.0   \n",
      "2    2.020000e+11  7/15/15 12:16     G816     7070884        70203       1.0   \n",
      "3    2.020000e+11  7/15/15 12:16     G816     7070891        70401       1.0   \n",
      "4    2.020000e+11  7/15/15 12:16     G816     7090363        70401       1.0   \n",
      "\n",
      "   price  \n",
      "0    2.0  \n",
      "1    2.0  \n",
      "2    2.0  \n",
      "3    6.0  \n",
      "4    6.0  \n"
     ]
    }
   ],
   "source": [
    "import pandas as pd\n",
    "\n",
    "# Read the CSV file into a DataFrame\n",
    "file_path = r\"C:\\Users\\S\\Downloads\\Purchase_Data.csv\"\n",
    "df_data = pd.read_csv(file_path)\n",
    "\n",
    "\n",
    "print(df_data.head())\n"
   ]
  },
  {
   "cell_type": "code",
   "execution_count": 7,
   "id": "47c8c318",
   "metadata": {},
   "outputs": [
    {
     "name": "stdout",
     "output_type": "stream",
     "text": [
      "invoice_number    float64\n",
      "invoice_time       object\n",
      "store_id           object\n",
      "product_id          int64\n",
      "category_id         int64\n",
      "num_item          float64\n",
      "price             float64\n",
      "dtype: object\n"
     ]
    }
   ],
   "source": [
    "\n",
    "print(df_data.dtypes)\n"
   ]
  },
  {
   "cell_type": "code",
   "execution_count": 8,
   "id": "d12cbece",
   "metadata": {},
   "outputs": [
    {
     "name": "stdout",
     "output_type": "stream",
     "text": [
      "   invoice_number   invoice_time\n",
      "0    2.020000e+11  7/15/15 10:45\n",
      "1    2.020000e+11  7/15/15 12:16\n",
      "2    2.020000e+11  7/15/15 12:16\n",
      "3    2.020000e+11  7/15/15 12:16\n",
      "4    2.020000e+11  7/15/15 12:16\n"
     ]
    }
   ],
   "source": [
    "# Slice the first two columns using .loc\n",
    "result_1 = df_data.loc[:, df_data.columns[:2]]\n",
    "\n",
    "\n",
    "print(result_1.head())  \n"
   ]
  },
  {
   "cell_type": "code",
   "execution_count": 9,
   "id": "0f21dedb",
   "metadata": {},
   "outputs": [
    {
     "name": "stdout",
     "output_type": "stream",
     "text": [
      "   invoice_number   invoice_time store_id  product_id  category_id  num_item  \\\n",
      "0    2.020000e+11  7/15/15 10:45     G816     7000300       210101       1.0   \n",
      "1    2.020000e+11  7/15/15 12:16     G816     7070884        70203       1.0   \n",
      "\n",
      "   price  \n",
      "0    2.0  \n",
      "1    2.0  \n"
     ]
    }
   ],
   "source": [
    "# Slice the first two rows using .loc\n",
    "result_2 = df_data.loc[:1, :]  # Indexing starts from 0\n",
    "\n",
    "\n",
    "print(result_2)\n",
    "\n"
   ]
  },
  {
   "cell_type": "code",
   "execution_count": 10,
   "id": "ae71b11e",
   "metadata": {},
   "outputs": [
    {
     "name": "stdout",
     "output_type": "stream",
     "text": [
      "   invoice_number   invoice_time store_id  product_id  category_id\n",
      "0    2.020000e+11  7/15/15 10:45     G816     7000300       210101\n",
      "1    2.020000e+11  7/15/15 12:16     G816     7070884        70203\n",
      "2    2.020000e+11  7/15/15 12:16     G816     7070884        70203\n",
      "3    2.020000e+11  7/15/15 12:16     G816     7070891        70401\n"
     ]
    }
   ],
   "source": [
    "# Slice the first four rows and the first five columns\n",
    "result_3 = df_data.loc[:3, df_data.columns[:5]]\n",
    "\n",
    "\n",
    "print(result_3)\n",
    "\n"
   ]
  },
  {
   "cell_type": "code",
   "execution_count": 14,
   "id": "0be895e0",
   "metadata": {},
   "outputs": [
    {
     "name": "stdout",
     "output_type": "stream",
     "text": [
      "    invoice_time  price\n",
      "0  7/15/15 10:45    2.0\n",
      "4  7/15/15 12:16    6.0\n",
      "6  7/15/15 15:28    2.0\n"
     ]
    }
   ],
   "source": [
    "# Slice rows 0, 4, and 6 and columns 'Invoice Time' and 'Price'\n",
    "result_4 = df_data.loc[[0, 4, 6], ['invoice_time', 'price']]\n",
    "\n",
    "\n",
    "print(result_4)\n"
   ]
  },
  {
   "cell_type": "code",
   "execution_count": 15,
   "id": "c0cf3322",
   "metadata": {},
   "outputs": [
    {
     "name": "stdout",
     "output_type": "stream",
     "text": [
      "5382\n"
     ]
    }
   ],
   "source": [
    "# Get the number of rows\n",
    "num_rows = df_data.shape[0]\n",
    "\n",
    "\n",
    "print(num_rows)\n"
   ]
  },
  {
   "cell_type": "code",
   "execution_count": 16,
   "id": "c85fb24b",
   "metadata": {},
   "outputs": [
    {
     "name": "stdout",
     "output_type": "stream",
     "text": [
      "invoice_number    202000000000.0\n",
      "invoice_time        9/5/15 23:38\n",
      "store_id                    G619\n",
      "product_id              23030206\n",
      "category_id               210101\n",
      "num_item                     1.0\n",
      "price                        2.0\n",
      "Name: 5381, dtype: object\n"
     ]
    }
   ],
   "source": [
    "# Print the last row using num_rows\n",
    "last_row = df_data.loc[num_rows - 1, :]\n",
    "\n",
    "\n",
    "print(last_row)\n"
   ]
  },
  {
   "cell_type": "code",
   "execution_count": 18,
   "id": "efec2742",
   "metadata": {},
   "outputs": [
    {
     "name": "stdout",
     "output_type": "stream",
     "text": [
      "Average Price: 3.1920522110741363\n",
      "Maximum Price: 6.01\n"
     ]
    }
   ],
   "source": [
    "# Compute the average and maximum price\n",
    "avg_price = df_data['price'].mean()\n",
    "max_price = df_data['price'].max()\n",
    "\n",
    "\n",
    "print(\"Average Price:\", avg_price)\n",
    "print(\"Maximum Price:\", max_price)\n",
    "\n"
   ]
  },
  {
   "cell_type": "code",
   "execution_count": 21,
   "id": "74d47727",
   "metadata": {},
   "outputs": [
    {
     "name": "stdout",
     "output_type": "stream",
     "text": [
      "Average Price: 3.1920522110741363\n",
      "Average Number of Items Purchased: 1.2983091787439613\n"
     ]
    }
   ],
   "source": [
    "# Compute the average price and average number of items purchased in a single call\n",
    "avg_price, avg_num_items = df_data[['price', 'num_item']].mean()\n",
    "\n",
    "\n",
    "print(\"Average Price:\", avg_price)\n",
    "print(\"Average Number of Items Purchased:\", avg_num_items)\n",
    "\n"
   ]
  },
  {
   "cell_type": "code",
   "execution_count": 23,
   "id": "83ad552a",
   "metadata": {},
   "outputs": [
    {
     "name": "stdout",
     "output_type": "stream",
     "text": [
      "Index(['invoice_number', 'invoice_time', 'store_id', 'product_id',\n",
      "       'category_id', 'num_item', 'price'],\n",
      "      dtype='object')\n",
      "   invoice_number   invoice_time store_id  product_id  category_id  num_item  \\\n",
      "0    2.020000e+11  7/15/15 10:45     G816     7000300       210101       1.0   \n",
      "1    2.020000e+11  7/15/15 12:16     G816     7070884        70203       1.0   \n",
      "2    2.020000e+11  7/15/15 12:16     G816     7070884        70203       1.0   \n",
      "3    2.020000e+11  7/15/15 12:16     G816     7070891        70401       1.0   \n",
      "4    2.020000e+11  7/15/15 12:16     G816     7090363        70401       1.0   \n",
      "\n",
      "   price  total  \n",
      "0    2.0    2.0  \n",
      "1    2.0    2.0  \n",
      "2    2.0    2.0  \n",
      "3    6.0    6.0  \n",
      "4    6.0    6.0  \n"
     ]
    }
   ],
   "source": [
    "# Check the correct column name for number of items\n",
    "print(df_data.columns)\n",
    "\n",
    "\n",
    "df_data[\"total\"] = df_data[\"price\"] * df_data[\"num_item\"]\n",
    "\n",
    "\n",
    "print(df_data.head())\n"
   ]
  },
  {
   "cell_type": "code",
   "execution_count": 24,
   "id": "609bf112",
   "metadata": {},
   "outputs": [
    {
     "name": "stdout",
     "output_type": "stream",
     "text": [
      "Average Price of the Three Most Expensive Purchases: 6.003333333333333\n"
     ]
    }
   ],
   "source": [
    "# Find the three most expensive purchases\n",
    "top_3_prices = df_data.nlargest(3, 'price')\n",
    "\n",
    "\n",
    "avg_top_3_price = top_3_prices['price'].mean()\n",
    "\n",
    "\n",
    "print(\"Average Price of the Three Most Expensive Purchases:\", avg_top_3_price)\n"
   ]
  },
  {
   "cell_type": "code",
   "execution_count": 27,
   "id": "1c652be4",
   "metadata": {},
   "outputs": [
    {
     "name": "stdout",
     "output_type": "stream",
     "text": [
      "Index(['invoice_number', 'invoice_time', 'store_id', 'product_id',\n",
      "       'category_id', 'num_item', 'price', 'total'],\n",
      "      dtype='object')\n",
      "Number of Different Products: 53\n"
     ]
    }
   ],
   "source": [
    "# Check the correct column name for products\n",
    "print(df_data.columns)\n",
    "\n",
    "\n",
    "num_products = df_data['product_id'].nunique()\n",
    "\n",
    "\n",
    "print(\"Number of Different Products:\", num_products)\n"
   ]
  },
  {
   "cell_type": "code",
   "execution_count": 28,
   "id": "2c007fe7",
   "metadata": {},
   "outputs": [
    {
     "name": "stdout",
     "output_type": "stream",
     "text": [
      "Difference between Mean and Median of 'total': 0.9318078781127839\n"
     ]
    }
   ],
   "source": [
    "\n",
    "if \"total\" not in df_data.columns:\n",
    "    df_data[\"total\"] = df_data[\"Price\"] * df_data[\"num_item\"]  \n",
    "\n",
    "\n",
    "total_stats = df_data[\"total\"].describe()\n",
    "\n",
    "\n",
    "mean_total = total_stats[\"mean\"]\n",
    "median_total = total_stats[\"50%\"]\n",
    "\n",
    "# Compute the difference\n",
    "difference = mean_total - median_total\n",
    "\n",
    "\n",
    "print(\"Difference between Mean and Median of 'total':\", difference)\n"
   ]
  },
  {
   "cell_type": "code",
   "execution_count": 29,
   "id": "b78274b2",
   "metadata": {},
   "outputs": [
    {
     "name": "stdout",
     "output_type": "stream",
     "text": [
      "   invoice_number   invoice_time store_id  product_id  category_id  num_item  \\\n",
      "0    2.020000e+11  7/15/15 10:45     G816     7000300       210101       1.0   \n",
      "1    2.020000e+11  7/15/15 12:16     G816     7070884        70203       1.0   \n",
      "2    2.020000e+11  7/15/15 12:16     G816     7070884        70203       1.0   \n",
      "3    2.020000e+11  7/15/15 12:16     G816     7070891        70401       1.0   \n",
      "4    2.020000e+11  7/15/15 12:16     G816     7090363        70401       1.0   \n",
      "\n",
      "   price  \n",
      "0    2.0  \n",
      "1    2.0  \n",
      "2    2.0  \n",
      "3    6.0  \n",
      "4    6.0  \n"
     ]
    }
   ],
   "source": [
    "# Drop the \"total\" column from the DataFrame\n",
    "df_data = df_data.drop(columns=[\"total\"])\n",
    "\n",
    "\n",
    "print(df_data.head())\n"
   ]
  },
  {
   "cell_type": "code",
   "execution_count": 31,
   "id": "81e265a8",
   "metadata": {},
   "outputs": [
    {
     "name": "stderr",
     "output_type": "stream",
     "text": [
      "C:\\Users\\S\\AppData\\Local\\Temp\\ipykernel_50940\\3225326172.py:4: UserWarning: Could not infer format, so each element will be parsed individually, falling back to `dateutil`. To ensure parsing is consistent and as-expected, please specify a format.\n",
      "  df_data[\"Invoice Time\"] = pd.to_datetime(df_data[\"invoice_time\"], errors=\"coerce\")\n"
     ]
    },
    {
     "name": "stdout",
     "output_type": "stream",
     "text": [
      "invoice_number           float64\n",
      "invoice_time              object\n",
      "store_id                  object\n",
      "product_id                 int64\n",
      "category_id                int64\n",
      "num_item                 float64\n",
      "price                    float64\n",
      "Invoice Time      datetime64[ns]\n",
      "dtype: object\n"
     ]
    }
   ],
   "source": [
    "import pandas as pd  \n",
    "\n",
    "# Convert \"Invoice Time\" to datetime format\n",
    "df_data[\"Invoice Time\"] = pd.to_datetime(df_data[\"invoice_time\"], errors=\"coerce\")\n",
    "\n",
    "\n",
    "print(df_data.dtypes)\n"
   ]
  },
  {
   "cell_type": "code",
   "execution_count": 32,
   "id": "b4f38320",
   "metadata": {},
   "outputs": [
    {
     "name": "stdout",
     "output_type": "stream",
     "text": [
      "   invoice_number   invoice_time store_id  product_id  category_id  num_item  \\\n",
      "0    2.020000e+11  7/15/15 10:45     G816     7000300       210101       1.0   \n",
      "1    2.020000e+11  7/15/15 12:16     G816     7070884        70203       1.0   \n",
      "2    2.020000e+11  7/15/15 12:16     G816     7070884        70203       1.0   \n",
      "3    2.020000e+11  7/15/15 12:16     G816     7070891        70401       1.0   \n",
      "4    2.020000e+11  7/15/15 12:16     G816     7090363        70401       1.0   \n",
      "\n",
      "   price        Invoice Time        DOW Month  \n",
      "0    2.0 2015-07-15 10:45:00  Wednesday  July  \n",
      "1    2.0 2015-07-15 12:16:00  Wednesday  July  \n",
      "2    2.0 2015-07-15 12:16:00  Wednesday  July  \n",
      "3    6.0 2015-07-15 12:16:00  Wednesday  July  \n",
      "4    6.0 2015-07-15 12:16:00  Wednesday  July  \n"
     ]
    }
   ],
   "source": [
    "# Ensure \"Invoice Time\" is in datetime format\n",
    "df_data[\"Invoice Time\"] = pd.to_datetime(df_data[\"Invoice Time\"], errors=\"coerce\")\n",
    "\n",
    "# Create new columns for Day of the Week (DOW) and Month\n",
    "df_data[\"DOW\"] = df_data[\"Invoice Time\"].dt.day_name()  \n",
    "df_data[\"Month\"] = df_data[\"Invoice Time\"].dt.month_name() \n",
    "\n",
    "\n",
    "print(df_data.head())\n"
   ]
  },
  {
   "cell_type": "code",
   "execution_count": 33,
   "id": "60d3e0a3",
   "metadata": {},
   "outputs": [
    {
     "name": "stdout",
     "output_type": "stream",
     "text": [
      "Number of purchases made on Wednesday: 959\n"
     ]
    }
   ],
   "source": [
    "# Ensure \"DOW\" column exists\n",
    "if \"DOW\" not in df_data.columns:\n",
    "    df_data[\"DOW\"] = df_data[\"Invoice Time\"].dt.day_name()\n",
    "\n",
    "\n",
    "dow_counts = df_data[\"DOW\"].value_counts()\n",
    "\n",
    "\n",
    "num_purchases_wed = dow_counts.get(\"Wednesday\", 0)  \n",
    "\n",
    "print(\"Number of purchases made on Wednesday:\", num_purchases_wed)\n"
   ]
  },
  {
   "cell_type": "code",
   "execution_count": null,
   "id": "19dc856e",
   "metadata": {},
   "outputs": [],
   "source": []
  }
 ],
 "metadata": {
  "kernelspec": {
   "display_name": "Python 3 (ipykernel)",
   "language": "python",
   "name": "python3"
  },
  "language_info": {
   "codemirror_mode": {
    "name": "ipython",
    "version": 3
   },
   "file_extension": ".py",
   "mimetype": "text/x-python",
   "name": "python",
   "nbconvert_exporter": "python",
   "pygments_lexer": "ipython3",
   "version": "3.11.5"
  }
 },
 "nbformat": 4,
 "nbformat_minor": 5
}
