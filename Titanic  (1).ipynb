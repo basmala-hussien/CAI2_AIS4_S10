{
 "cells": [
  {
   "cell_type": "code",
   "execution_count": 2,
   "id": "950086dd",
   "metadata": {},
   "outputs": [
    {
     "name": "stdout",
     "output_type": "stream",
     "text": [
      "   PassengerId  Pclass                                          Name     Sex  \\\n",
      "0          892       3                              Kelly, Mr. James    male   \n",
      "1          893       3              Wilkes, Mrs. James (Ellen Needs)  female   \n",
      "2          894       2                     Myles, Mr. Thomas Francis    male   \n",
      "3          895       3                              Wirz, Mr. Albert    male   \n",
      "4          896       3  Hirvonen, Mrs. Alexander (Helga E Lindqvist)  female   \n",
      "\n",
      "    Age  SibSp  Parch   Ticket     Fare Cabin Embarked  \n",
      "0  34.5      0      0   330911   7.8292   NaN        Q  \n",
      "1  47.0      1      0   363272   7.0000   NaN        S  \n",
      "2  62.0      0      0   240276   9.6875   NaN        Q  \n",
      "3  27.0      0      0   315154   8.6625   NaN        S  \n",
      "4  22.0      1      1  3101298  12.2875   NaN        S  \n"
     ]
    }
   ],
   "source": [
    "import pandas as pd  # Import pandas\n",
    "\n",
    "# Read the Titanic dataset\n",
    "df_titanic = pd.read_csv(r\"C:\\Users\\S\\Downloads\\Titanic.csv\")\n",
    "\n",
    "# Display the first few rows\n",
    "print(df_titanic.head())\n"
   ]
  },
  {
   "cell_type": "code",
   "execution_count": 3,
   "id": "f26f59af",
   "metadata": {},
   "outputs": [
    {
     "name": "stdout",
     "output_type": "stream",
     "text": [
      "   PassengerId  Pclass                                Passenger_Name     Sex  \\\n",
      "0          892       3                              Kelly, Mr. James    male   \n",
      "1          893       3              Wilkes, Mrs. James (Ellen Needs)  female   \n",
      "2          894       2                     Myles, Mr. Thomas Francis    male   \n",
      "3          895       3                              Wirz, Mr. Albert    male   \n",
      "4          896       3  Hirvonen, Mrs. Alexander (Helga E Lindqvist)  female   \n",
      "\n",
      "    Age  SibSp  Parch Ticket_Num     Fare Cabin Embarked  \n",
      "0  34.5      0      0     330911   7.8292   NaN        Q  \n",
      "1  47.0      1      0     363272   7.0000   NaN        S  \n",
      "2  62.0      0      0     240276   9.6875   NaN        Q  \n",
      "3  27.0      0      0     315154   8.6625   NaN        S  \n",
      "4  22.0      1      1    3101298  12.2875   NaN        S  \n"
     ]
    }
   ],
   "source": [
    "# Rename columns\n",
    "df_titanic = df_titanic.rename(columns={\"Name\": \"Passenger_Name\", \"Ticket\": \"Ticket_Num\"})\n",
    "\n",
    "# Display the first few rows to verify\n",
    "print(df_titanic.head())\n"
   ]
  },
  {
   "cell_type": "code",
   "execution_count": 4,
   "id": "bc721580",
   "metadata": {},
   "outputs": [
    {
     "name": "stdout",
     "output_type": "stream",
     "text": [
      "             Pclass                                Passenger_Name     Sex  \\\n",
      "PassengerId                                                                 \n",
      "892               3                              Kelly, Mr. James    male   \n",
      "893               3              Wilkes, Mrs. James (Ellen Needs)  female   \n",
      "894               2                     Myles, Mr. Thomas Francis    male   \n",
      "895               3                              Wirz, Mr. Albert    male   \n",
      "896               3  Hirvonen, Mrs. Alexander (Helga E Lindqvist)  female   \n",
      "\n",
      "              Age  SibSp  Parch Ticket_Num     Fare Cabin Embarked  \n",
      "PassengerId                                                         \n",
      "892          34.5      0      0     330911   7.8292   NaN        Q  \n",
      "893          47.0      1      0     363272   7.0000   NaN        S  \n",
      "894          62.0      0      0     240276   9.6875   NaN        Q  \n",
      "895          27.0      0      0     315154   8.6625   NaN        S  \n",
      "896          22.0      1      1    3101298  12.2875   NaN        S  \n"
     ]
    }
   ],
   "source": [
    "# Set \"PassengerId\" as the index\n",
    "df_titanic = df_titanic.set_index(\"PassengerId\")\n",
    "\n",
    "# Display the first few rows to verify\n",
    "print(df_titanic.head())\n"
   ]
  },
  {
   "cell_type": "code",
   "execution_count": 5,
   "id": "46211377",
   "metadata": {},
   "outputs": [
    {
     "name": "stdout",
     "output_type": "stream",
     "text": [
      "Name of passenger 896: Hirvonen, Mrs. Alexander (Helga E Lindqvist)\n"
     ]
    }
   ],
   "source": [
    "# Select the name of passenger with ID 896\n",
    "passenger_896_name = df_titanic.loc[896, \"Passenger_Name\"]\n",
    "\n",
    "# Display the result\n",
    "print(\"Name of passenger 896:\", passenger_896_name)\n"
   ]
  },
  {
   "cell_type": "code",
   "execution_count": 6,
   "id": "e7d8a6ba",
   "metadata": {},
   "outputs": [
    {
     "name": "stdout",
     "output_type": "stream",
     "text": [
      "   PassengerId  Pclass                                Passenger_Name     Sex  \\\n",
      "0          892       3                              Kelly, Mr. James    male   \n",
      "1          893       3              Wilkes, Mrs. James (Ellen Needs)  female   \n",
      "2          894       2                     Myles, Mr. Thomas Francis    male   \n",
      "3          895       3                              Wirz, Mr. Albert    male   \n",
      "4          896       3  Hirvonen, Mrs. Alexander (Helga E Lindqvist)  female   \n",
      "\n",
      "    Age  SibSp  Parch Ticket_Num     Fare Cabin Embarked  \n",
      "0  34.5      0      0     330911   7.8292   NaN        Q  \n",
      "1  47.0      1      0     363272   7.0000   NaN        S  \n",
      "2  62.0      0      0     240276   9.6875   NaN        Q  \n",
      "3  27.0      0      0     315154   8.6625   NaN        S  \n",
      "4  22.0      1      1    3101298  12.2875   NaN        S  \n"
     ]
    }
   ],
   "source": [
    "# Reset the index but keep PassengerId as a column\n",
    "df_titanic = df_titanic.reset_index()\n",
    "\n",
    "# Display the first few rows to verify\n",
    "print(df_titanic.head())\n"
   ]
  },
  {
   "cell_type": "code",
   "execution_count": 7,
   "id": "d96f8778",
   "metadata": {},
   "outputs": [
    {
     "name": "stdout",
     "output_type": "stream",
     "text": [
      "Number of missing entries in the Age column: 86\n"
     ]
    }
   ],
   "source": [
    "# Count missing values in the Age column\n",
    "missing_age_count = df_titanic[\"Age\"].isnull().sum()\n",
    "\n",
    "# Display the result\n",
    "print(\"Number of missing entries in the Age column:\", missing_age_count)\n"
   ]
  },
  {
   "cell_type": "code",
   "execution_count": 8,
   "id": "1bbb49dc",
   "metadata": {},
   "outputs": [
    {
     "name": "stdout",
     "output_type": "stream",
     "text": [
      "Average age of passengers (ignoring missing data): 30.272590361445783\n"
     ]
    }
   ],
   "source": [
    "# Compute the average age, ignoring missing values\n",
    "avg_age = df_titanic[\"Age\"].mean()\n",
    "\n",
    "# Display the result\n",
    "print(\"Average age of passengers (ignoring missing data):\", avg_age)\n"
   ]
  },
  {
   "cell_type": "code",
   "execution_count": 9,
   "id": "1b632cff",
   "metadata": {},
   "outputs": [
    {
     "name": "stdout",
     "output_type": "stream",
     "text": [
      "Missing values in Age column after filling: 0\n"
     ]
    }
   ],
   "source": [
    "# Compute the mean age\n",
    "mean_age = df_titanic[\"Age\"].mean()\n",
    "\n",
    "# Fill missing values in the Age column with the mean age\n",
    "df_titanic[\"Age\"] = df_titanic[\"Age\"].fillna(mean_age)\n",
    "\n",
    "# Verify that there are no missing values left\n",
    "print(\"Missing values in Age column after filling:\", df_titanic[\"Age\"].isnull().sum())\n"
   ]
  },
  {
   "cell_type": "code",
   "execution_count": 10,
   "id": "05d44392",
   "metadata": {},
   "outputs": [
    {
     "name": "stdout",
     "output_type": "stream",
     "text": [
      "Average age of the 5 oldest passengers: 67.0\n"
     ]
    }
   ],
   "source": [
    "# Sort by Age in descending order and select the top 5 oldest passengers\n",
    "oldest_5_avg_age = df_titanic.sort_values(by=\"Age\", ascending=False).head(5)[\"Age\"].mean()\n",
    "\n",
    "# Display the result\n",
    "print(\"Average age of the 5 oldest passengers:\", oldest_5_avg_age)\n"
   ]
  },
  {
   "cell_type": "code",
   "execution_count": null,
   "id": "2093a2a4",
   "metadata": {},
   "outputs": [],
   "source": []
  }
 ],
 "metadata": {
  "kernelspec": {
   "display_name": "Python 3 (ipykernel)",
   "language": "python",
   "name": "python3"
  },
  "language_info": {
   "codemirror_mode": {
    "name": "ipython",
    "version": 3
   },
   "file_extension": ".py",
   "mimetype": "text/x-python",
   "name": "python",
   "nbconvert_exporter": "python",
   "pygments_lexer": "ipython3",
   "version": "3.11.5"
  }
 },
 "nbformat": 4,
 "nbformat_minor": 5
}
